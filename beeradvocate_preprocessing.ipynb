{
 "cells": [
  {
   "cell_type": "code",
   "execution_count": 2,
   "metadata": {
    "collapsed": true
   },
   "outputs": [],
   "source": [
    "import gzip\n",
    "try: import simplejson as json\n",
    "except ImportError: import json\n",
    "\n",
    "import codecs\n",
    "import matplotlib.pyplot as plt\n",
    "import numpy as np"
   ]
  },
  {
   "cell_type": "code",
   "execution_count": 3,
   "metadata": {
    "collapsed": true
   },
   "outputs": [],
   "source": [
    "def parse(filename):\n",
    "  #f = gzip.open(filename, 'r')\n",
    "  f = codecs.open(filename,encoding='latin-1')\n",
    "  entry = {}\n",
    "  for l in f:\n",
    "    l = l.strip()\n",
    "    colonPos = l.find(':')\n",
    "    if colonPos == -1:\n",
    "      yield entry\n",
    "      entry = {}\n",
    "      continue\n",
    "    eName = l[:colonPos]\n",
    "    rest = l[colonPos+2:]\n",
    "    entry[eName] = rest\n",
    "  yield entry"
   ]
  },
  {
   "cell_type": "code",
   "execution_count": 4,
   "metadata": {
    "collapsed": true
   },
   "outputs": [],
   "source": [
    "ratebeer_data = []\n",
    "for e in parse(\"Beeradvocate.txt\"):\n",
    "    ratebeer_data.append(e)"
   ]
  },
  {
   "cell_type": "code",
   "execution_count": 5,
   "metadata": {},
   "outputs": [
    {
     "name": "stdout",
     "output_type": "stream",
     "text": [
      "Number of BeerAdvocate beer reviews: 1586719\n"
     ]
    }
   ],
   "source": [
    "print(\"Number of BeerAdvocate beer reviews: {}\".format(len(ratebeer_data)))"
   ]
  },
  {
   "cell_type": "code",
   "execution_count": 6,
   "metadata": {},
   "outputs": [
    {
     "data": {
      "text/plain": [
       "{'beer/ABV': '4.80',\n",
       " 'beer/beerId': '10656',\n",
       " 'beer/brewerId': '5049',\n",
       " 'beer/name': 'Gem',\n",
       " 'beer/style': 'Extra Special / Strong Bitter (ESB)',\n",
       " 'review/appearance': '3.5',\n",
       " 'review/aroma': '4',\n",
       " 'review/overall': '4.5',\n",
       " 'review/palate': '4',\n",
       " 'review/profileName': 'NeroFiddled',\n",
       " 'review/taste': '4',\n",
       " 'review/text': \"A rough pour delivers a hazy, orangeish-copper body with a thin head of off-white froth. The carbonation is limited (maybe 1.8 volumes CO2/liter) as it would be in a cask-conditioned ale. A smoother pour may deliver a clearer beer, leaving some of the lees behind, but the yeast that's carried over is far from assertive and probably adds to the flavor a bit. The nose is toffee-ish with a subtle touch of buttery diacetyl underneath and some fruit (apricots, tangerine) in the background. The body is medium-light and its restrained and very fine, natural carbonation (it's bottle conditioned) leaves it exquisitely smooth across the palate. The flavor reveals more fruitiness than the nose suggests, intertwined within honeyish, toffee-ish, and biscuity malt and a tea-like, leafy hoppiness. A firm bitterness acts as ballast, and it finishes dry with a subtle note of biscuity malt lingering. Quite well done, and an excellent session ale!\",\n",
       " 'review/time': '1082585864'}"
      ]
     },
     "execution_count": 6,
     "metadata": {},
     "output_type": "execute_result"
    }
   ],
   "source": [
    "ratebeer_data[10000]"
   ]
  },
  {
   "cell_type": "code",
   "execution_count": 7,
   "metadata": {
    "collapsed": true
   },
   "outputs": [],
   "source": [
    "#construct the reduced file with only productid, userid, rating\n",
    "keep_property_arr =[\"beer/beerId\", \"review/profileName\", \"review/overall\",\"review/time\"]"
   ]
  },
  {
   "cell_type": "code",
   "execution_count": 50,
   "metadata": {},
   "outputs": [],
   "source": [
    "ratebeer_reduced =[]\n",
    "ratebeer_missingproperties = []\n",
    "i=0\n",
    "for review in ratebeer_data:\n",
    "    user_jsobobj = dict()\n",
    "    flag=0\n",
    "    for prop in keep_property_arr:\n",
    "        if prop not in review:\n",
    "            ratebeer_missingproperties.append(review)\n",
    "            flag=1\n",
    "            break\n",
    "    if flag==0:\n",
    "        if float(review[\"review/overall\"]) == 0.0:\n",
    "            ratebeer_missingproperties.append(review)\n",
    "            continue\n",
    "        for property in keep_property_arr:\n",
    "            if property ==\"review/overall\":\n",
    "                user_jsobobj[\"review/score\"] = float(review[property])\n",
    "            elif property == \"review/profileName\":\n",
    "                user_jsobobj[\"review/userId\"] = review[property]\n",
    "            elif property == \"beer/beerId\":\n",
    "                user_jsobobj[\"product/productId\"] = review [property]\n",
    "            else:\n",
    "                user_jsobobj[property] = review[property]\n",
    "        ratebeer_reduced.append(user_jsobobj)"
   ]
  },
  {
   "cell_type": "code",
   "execution_count": 51,
   "metadata": {},
   "outputs": [
    {
     "data": {
      "text/plain": [
       "{'product/productId': '52159',\n",
       " 'review/score': 5.0,\n",
       " 'review/time': '1283154365',\n",
       " 'review/userId': 'MadeInOregon'}"
      ]
     },
     "execution_count": 51,
     "metadata": {},
     "output_type": "execute_result"
    }
   ],
   "source": [
    "ratebeer_reduced[10]"
   ]
  },
  {
   "cell_type": "code",
   "execution_count": 52,
   "metadata": {},
   "outputs": [
    {
     "name": "stdout",
     "output_type": "stream",
     "text": [
      "Number of 'clean' reviews: 1586607\n",
      "Number of reviews with incomplete information: 112\n"
     ]
    }
   ],
   "source": [
    "print(\"Number of 'clean' reviews: {}\".format(len(ratebeer_reduced)))\n",
    "print(\"Number of reviews with incomplete information: {}\".format(len(ratebeer_missingproperties)))"
   ]
  },
  {
   "cell_type": "code",
   "execution_count": 13,
   "metadata": {
    "collapsed": true
   },
   "outputs": [],
   "source": [
    "# Dump all clean and unclean contents to separate files. These files are used for all further processing"
   ]
  },
  {
   "cell_type": "code",
   "execution_count": 56,
   "metadata": {},
   "outputs": [
    {
     "name": "stdout",
     "output_type": "stream",
     "text": [
      "File beeradvocate_incompletedata.json written\n"
     ]
    }
   ],
   "source": [
    "with open(\"beeradvocate_incompletedata.json\",'w') as outfile:\n",
    "    for line in ratebeer_missingproperties:\n",
    "        json.dump(line,outfile)\n",
    "        outfile.write(\"\\n\")\n",
    "print(\"File {} written\".format(\"beeradvocate_incompletedata.json\"))\n",
    "outfile.close()"
   ]
  },
  {
   "cell_type": "code",
   "execution_count": 57,
   "metadata": {},
   "outputs": [
    {
     "name": "stdout",
     "output_type": "stream",
     "text": [
      "File beeradvocate_reduced_time_data.json written\n"
     ]
    }
   ],
   "source": [
    "with open(\"beeradvocate_reduced_time_data.json\",'w') as outfile:\n",
    "    json.dump(ratebeer_reduced,outfile)\n",
    "print(\"File {} written\".format(\"beeradvocate_reduced_time_data.json\"))\n",
    "outfile.close()"
   ]
  },
  {
   "cell_type": "markdown",
   "metadata": {},
   "source": [
    "## Exploratory analysis"
   ]
  },
  {
   "cell_type": "code",
   "execution_count": 58,
   "metadata": {
    "collapsed": true
   },
   "outputs": [],
   "source": [
    "user_set = set()\n",
    "product_set = set()"
   ]
  },
  {
   "cell_type": "code",
   "execution_count": 59,
   "metadata": {
    "collapsed": true
   },
   "outputs": [],
   "source": [
    "scores =[]"
   ]
  },
  {
   "cell_type": "code",
   "execution_count": 60,
   "metadata": {
    "collapsed": true
   },
   "outputs": [],
   "source": [
    "for review in ratebeer_reduced:\n",
    "    if review[\"product/productId\"] not in product_set:\n",
    "        product_set.add(review[\"product/productId\"])\n",
    "    if review[\"review/userId\"] not in user_set:\n",
    "        user_set.add(review[\"review/userId\"])\n",
    "    scores.append(review[\"review/score\"])"
   ]
  },
  {
   "cell_type": "code",
   "execution_count": 61,
   "metadata": {},
   "outputs": [
    {
     "name": "stdout",
     "output_type": "stream",
     "text": [
      "Number of products: 66055\n",
      "Number of users: 33388\n"
     ]
    }
   ],
   "source": [
    "print(\"Number of products: {}\".format(len(product_set)))\n",
    "print(\"Number of users: {}\".format(len(user_set)))"
   ]
  },
  {
   "cell_type": "code",
   "execution_count": 62,
   "metadata": {},
   "outputs": [
    {
     "name": "stdout",
     "output_type": "stream",
     "text": [
      "0\n"
     ]
    }
   ],
   "source": [
    "count = 0\n",
    "for score in scores:\n",
    "    if score==0:\n",
    "        count+=1\n",
    "print(count)"
   ]
  },
  {
   "cell_type": "code",
   "execution_count": 63,
   "metadata": {
    "collapsed": true
   },
   "outputs": [],
   "source": [
    "distinct_scores = dict()\n",
    "for score in scores:\n",
    "    if score not in distinct_scores:\n",
    "        distinct_scores[score]=1\n",
    "    else:\n",
    "        distinct_scores[score]+=1"
   ]
  },
  {
   "cell_type": "code",
   "execution_count": 64,
   "metadata": {},
   "outputs": [
    {
     "data": {
      "text/plain": [
       "dict_keys([1.5, 3.0, 4.0, 3.5, 4.5, 5.0, 2.0, 2.5, 1.0])"
      ]
     },
     "execution_count": 64,
     "metadata": {},
     "output_type": "execute_result"
    }
   ],
   "source": [
    "distinct_scores.keys()"
   ]
  },
  {
   "cell_type": "code",
   "execution_count": 65,
   "metadata": {},
   "outputs": [
    {
     "data": {
      "image/png": "[encoded data removed]",
      "text/plain": [
       "<matplotlib.figure.Figure at 0x1a7c37588>"
      ]
     },
     "metadata": {},
     "output_type": "display_data"
    }
   ],
   "source": [
    "plt.scatter(list(distinct_scores.keys()),list(distinct_scores.values()))\n",
    "plt.xlabel(\"Rating values\")\n",
    "plt.ylabel(\"Number of reviews\")\n",
    "plt.title(\" Number of reviews per rating\")\n",
    "plt.show()"
   ]
  },
  {
   "cell_type": "code",
   "execution_count": 66,
   "metadata": {
    "collapsed": true
   },
   "outputs": [],
   "source": [
    "#figure out distribution of average rating of products / or ratings given by users\n",
    "Iu = dict()\n",
    "Ui = dict()"
   ]
  },
  {
   "cell_type": "code",
   "execution_count": 67,
   "metadata": {
    "collapsed": true
   },
   "outputs": [],
   "source": [
    "for review in ratebeer_reduced:\n",
    "    if review[\"product/productId\"] in Ui:\n",
    "        Ui[review[\"product/productId\"]].append(float(review[\"review/score\"]))\n",
    "    else:\n",
    "        Ui[review[\"product/productId\"]] = [float(review[\"review/score\"])]\n",
    "    if review[\"review/userId\"] in Iu:\n",
    "        Iu[review[\"review/userId\"]].append(float(review[\"review/score\"]))\n",
    "    else:\n",
    "        Iu[review[\"review/userId\"]] = [float(review[\"review/score\"])]"
   ]
  },
  {
   "cell_type": "code",
   "execution_count": 68,
   "metadata": {
    "collapsed": true
   },
   "outputs": [],
   "source": [
    "Iu_len = dict()\n",
    "len_user = []\n",
    "for key in Iu:\n",
    "    if len(Iu[key]) not in Iu_len:\n",
    "        Iu_len[len(Iu[key])]=1\n",
    "    else:\n",
    "        Iu_len[len(Iu[key])]+=1\n",
    "    len_user.append(len(Iu[key]))"
   ]
  },
  {
   "cell_type": "code",
   "execution_count": 69,
   "metadata": {
    "collapsed": true
   },
   "outputs": [],
   "source": [
    "len_user.sort()"
   ]
  },
  {
   "cell_type": "code",
   "execution_count": 70,
   "metadata": {},
   "outputs": [
    {
     "data": {
      "image/png": "[encoded data removed]",
      "text/plain": [
       "<matplotlib.figure.Figure at 0x1a851e940>"
      ]
     },
     "metadata": {},
     "output_type": "display_data"
    }
   ],
   "source": [
    "plt.plot(len_user)\n",
    "plt.xlabel(\"#users\")\n",
    "plt.ylabel(\"#reviews\")\n",
    "plt.show()"
   ]
  },
  {
   "cell_type": "code",
   "execution_count": 71,
   "metadata": {},
   "outputs": [
    {
     "data": {
      "image/png": "[encoded data removed]",
      "text/plain": [
       "<matplotlib.figure.Figure at 0x1c4a09cc0>"
      ]
     },
     "metadata": {},
     "output_type": "display_data"
    }
   ],
   "source": [
    "plt.scatter(list(Iu_len.keys()),list(Iu_len.values()))\n",
    "plt.ylabel(\"#users\")\n",
    "plt.xlabel(\"#reviews\")\n",
    "plt.show()"
   ]
  },
  {
   "cell_type": "code",
   "execution_count": 72,
   "metadata": {
    "collapsed": true
   },
   "outputs": [],
   "source": [
    "review_cutoff = 50"
   ]
  },
  {
   "cell_type": "code",
   "execution_count": 73,
   "metadata": {
    "collapsed": true
   },
   "outputs": [],
   "source": [
    "count = 0\n",
    "for key in Iu_len:\n",
    "    if key>review_cutoff:\n",
    "        count+= Iu_len[key]\n",
    "        "
   ]
  },
  {
   "cell_type": "code",
   "execution_count": 74,
   "metadata": {},
   "outputs": [
    {
     "name": "stdout",
     "output_type": "stream",
     "text": [
      "Number of users who have written more than 50 reviews is 4732\n"
     ]
    }
   ],
   "source": [
    "print(\"Number of users who have written more than {} reviews is {}\".format(review_cutoff,count))"
   ]
  },
  {
   "cell_type": "code",
   "execution_count": 75,
   "metadata": {
    "collapsed": true
   },
   "outputs": [],
   "source": [
    "avg_user_rating = dict()\n",
    "for key in Iu:\n",
    "    if np.mean(Iu[key]) not in avg_user_rating:\n",
    "        avg_user_rating[np.mean(Iu[key])]=1\n",
    "    else:\n",
    "        avg_user_rating[np.mean(Iu[key])]+=1"
   ]
  },
  {
   "cell_type": "code",
   "execution_count": 76,
   "metadata": {
    "collapsed": true
   },
   "outputs": [],
   "source": [
    "x = sorted(list(avg_user_rating.keys()),reverse=True)"
   ]
  },
  {
   "cell_type": "code",
   "execution_count": 77,
   "metadata": {},
   "outputs": [
    {
     "data": {
      "image/png": "[encoded data removed]",
      "text/plain": [
       "<matplotlib.figure.Figure at 0x1c4a20748>"
      ]
     },
     "metadata": {},
     "output_type": "display_data"
    }
   ],
   "source": [
    "plt.scatter(list(avg_user_rating.keys()), list(avg_user_rating.values()))\n",
    "plt.show()"
   ]
  },
  {
   "cell_type": "code",
   "execution_count": 78,
   "metadata": {
    "collapsed": true
   },
   "outputs": [],
   "source": [
    "from sklearn.model_selection import train_test_split\n",
    "try: import simplejson as json\n",
    "except ImportError: import json"
   ]
  },
  {
   "cell_type": "code",
   "execution_count": null,
   "metadata": {
    "collapsed": true
   },
   "outputs": [],
   "source": [
    "with open(\"ratebeer_reduced_time_data.json\",\"r\") as infile:\n",
    "    ratebeer_data = json.load(infile)"
   ]
  },
  {
   "cell_type": "code",
   "execution_count": null,
   "metadata": {},
   "outputs": [],
   "source": [
    "print(\"Number of reviews: {}\".format(len(ratebeer_data)))"
   ]
  },
  {
   "cell_type": "code",
   "execution_count": 7,
   "metadata": {
    "collapsed": true
   },
   "outputs": [],
   "source": [
    "train, test = train_test_split(ratebeer_data,test_size=0.2, random_state=42)"
   ]
  },
  {
   "cell_type": "code",
   "execution_count": 9,
   "metadata": {},
   "outputs": [
    {
     "name": "stdout",
     "output_type": "stream",
     "text": [
      "2339330 584833\n"
     ]
    }
   ],
   "source": [
    "print(len(train),len(test))"
   ]
  },
  {
   "cell_type": "code",
   "execution_count": 10,
   "metadata": {
    "collapsed": true
   },
   "outputs": [],
   "source": [
    "train, val = train_test_split(train,test_size=0.25, random_state=42)"
   ]
  },
  {
   "cell_type": "code",
   "execution_count": 11,
   "metadata": {},
   "outputs": [
    {
     "name": "stdout",
     "output_type": "stream",
     "text": [
      "1754497 584833 584833\n"
     ]
    }
   ],
   "source": [
    "print(len(train),len(val),len(test))"
   ]
  },
  {
   "cell_type": "code",
   "execution_count": 14,
   "metadata": {},
   "outputs": [
    {
     "name": "stdout",
     "output_type": "stream",
     "text": [
      "File ratebeer_train.json written\n"
     ]
    }
   ],
   "source": [
    "with open(\"ratebeer_train.json\",'w') as outfile:\n",
    "    json.dump(train,outfile)\n",
    "print(\"File {} written\".format(\"ratebeer_train.json\"))\n",
    "outfile.close()"
   ]
  },
  {
   "cell_type": "code",
   "execution_count": 16,
   "metadata": {},
   "outputs": [
    {
     "name": "stdout",
     "output_type": "stream",
     "text": [
      "File ratebeer_test.json written\n"
     ]
    }
   ],
   "source": [
    "with open(\"ratebeer_test.json\",'w') as outfile:\n",
    "    json.dump(test,outfile)\n",
    "print(\"File {} written\".format(\"ratebeer_test.json\"))\n",
    "outfile.close()"
   ]
  },
  {
   "cell_type": "code",
   "execution_count": 17,
   "metadata": {},
   "outputs": [
    {
     "name": "stdout",
     "output_type": "stream",
     "text": [
      "File ratebeer_validation.json written\n"
     ]
    }
   ],
   "source": [
    "with open(\"ratebeer_validation.json\",'w') as outfile:\n",
    "    json.dump(val,outfile)\n",
    "print(\"File {} written\".format(\"ratebeer_validation.json\"))\n",
    "outfile.close()"
   ]
  },
  {
   "cell_type": "code",
   "execution_count": null,
   "metadata": {
    "collapsed": true
   },
   "outputs": [],
   "source": []
  }
 ],
 "metadata": {
  "anaconda-cloud": {},
  "kernelspec": {
   "display_name": "Python 3",
   "language": "python",
   "name": "python3"
  },
  "language_info": {
   "codemirror_mode": {
    "name": "ipython",
    "version": 3
   },
   "file_extension": ".py",
   "mimetype": "text/x-python",
   "name": "python",
   "nbconvert_exporter": "python",
   "pygments_lexer": "ipython3",
   "version": "3.6.0"
  }
 },
 "nbformat": 4,
 "nbformat_minor": 1
}
