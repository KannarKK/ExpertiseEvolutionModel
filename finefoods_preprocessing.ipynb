{
 "cells": [
  {
   "cell_type": "code",
   "execution_count": 1,
   "metadata": {},
   "outputs": [],
   "source": [
    "import gzip\n",
    "try: import simplejson as json\n",
    "except ImportError: import json\n",
    "\n",
    "import codecs\n",
    "import matplotlib.pyplot as plt\n",
    "import numpy as np"
   ]
  },
  {
   "cell_type": "code",
   "execution_count": 2,
   "metadata": {
    "collapsed": true
   },
   "outputs": [],
   "source": [
    "def parse(filename):\n",
    "  #f = gzip.open(filename, 'r')\n",
    "  f = codecs.open(filename,encoding='latin-1')\n",
    "  entry = {}\n",
    "  for l in f:\n",
    "    l = l.strip()\n",
    "    colonPos = l.find(':')\n",
    "    if colonPos == -1:\n",
    "      yield entry\n",
    "      entry = {}\n",
    "      continue\n",
    "    eName = l[:colonPos]\n",
    "    rest = l[colonPos+2:]\n",
    "    entry[eName] = rest\n",
    "  yield entry"
   ]
  },
  {
   "cell_type": "code",
   "execution_count": 3,
   "metadata": {},
   "outputs": [],
   "source": [
    "finefood_data = []\n",
    "for e in parse(\"finefoods.txt\"):\n",
    "    finefood_data.append(e)"
   ]
  },
  {
   "cell_type": "code",
   "execution_count": 4,
   "metadata": {},
   "outputs": [
    {
     "name": "stdout",
     "output_type": "stream",
     "text": [
      "Number of Amazon finefood reviews: 568462\n"
     ]
    }
   ],
   "source": [
    "print(\"Number of Amazon finefood reviews: {}\".format(len(finefood_data)))"
   ]
  },
  {
   "cell_type": "code",
   "execution_count": 5,
   "metadata": {},
   "outputs": [
    {
     "data": {
      "text/plain": [
       "{'product/productId': 'B000LQOCH0',\n",
       " 'review/helpfulness': '1/1',\n",
       " 'review/profileName': 'Natalia Corres \"Natalia Corres\"',\n",
       " 'review/score': '4.0',\n",
       " 'review/summary': '\"Delight\" says it all',\n",
       " 'review/text': 'This is a confection that has been around a few centuries.  It is a light, pillowy citrus gelatin with nuts - in this case Filberts. And it is cut into tiny squares and then liberally coated with powdered sugar.  And it is a tiny mouthful of heaven.  Not too chewy, and very flavorful.  I highly recommend this yummy treat.  If you are familiar with the story of C.S. Lewis\\' \"The Lion, The Witch, and The Wardrobe\" - this is the treat that seduces Edmund into selling out his Brother and Sisters to the Witch.',\n",
       " 'review/time': '1219017600',\n",
       " 'review/userId': 'ABXLMWJIXXAIN'}"
      ]
     },
     "execution_count": 5,
     "metadata": {},
     "output_type": "execute_result"
    }
   ],
   "source": [
    "finefood_data[2]"
   ]
  },
  {
   "cell_type": "code",
   "execution_count": 6,
   "metadata": {
    "collapsed": true
   },
   "outputs": [],
   "source": [
    "#construct the reduced file with only productid, userid, rating\n",
    "keep_property_arr =[\"product/productId\", \"review/userId\", \"review/score\",\"review/time\"]"
   ]
  },
  {
   "cell_type": "code",
   "execution_count": 7,
   "metadata": {},
   "outputs": [],
   "source": [
    "finefood_reduced =[]\n",
    "finefood_missingproperties = []\n",
    "i=0\n",
    "for review in finefood_data:\n",
    "    user_jsobobj = dict()\n",
    "    flag=0\n",
    "    for prop in keep_property_arr:\n",
    "        if prop not in review:\n",
    "            finefood_missingproperties.append(review)\n",
    "            flag=1\n",
    "            break\n",
    "    if flag==0:\n",
    "        for property in keep_property_arr:\n",
    "            if property ==\"review/score\":\n",
    "                user_jsobobj[property] = float(review[property])\n",
    "            else:\n",
    "                user_jsobobj[property] = review[property]\n",
    "        finefood_reduced.append(user_jsobobj)"
   ]
  },
  {
   "cell_type": "code",
   "execution_count": 8,
   "metadata": {},
   "outputs": [
    {
     "data": {
      "text/plain": [
       "{'product/productId': 'B002RIZUQ2',\n",
       " 'review/profileName': 'MABEL \"Tell us about yourself!',\n",
       " 'review/userId': 'AS2DLXUWDK0GP'}"
      ]
     },
     "execution_count": 8,
     "metadata": {},
     "output_type": "execute_result"
    }
   ],
   "source": [
    "finefood_data[94197]"
   ]
  },
  {
   "cell_type": "code",
   "execution_count": 9,
   "metadata": {},
   "outputs": [
    {
     "name": "stdout",
     "output_type": "stream",
     "text": [
      "Number of 'clean' reviews: 568447\n",
      "Number of reviews with incomplete information: 15\n"
     ]
    }
   ],
   "source": [
    "print(\"Number of 'clean' reviews: {}\".format(len(finefood_reduced)))\n",
    "print(\"Number of reviews with incomplete information: {}\".format(len(finefood_missingproperties)))"
   ]
  },
  {
   "cell_type": "code",
   "execution_count": 38,
   "metadata": {},
   "outputs": [],
   "source": [
    "Iu = dict() #set of products reviewed by users\n",
    "qualified_review_count = 0\n",
    "userproduct_dict = dict()  #dictionary to find out review for particular user and item\n",
    "train_data = []  #generate the qualified reviews\n",
    "dup_ui_comb = []\n",
    "ui_timestamp = dict()\n",
    "count=0\n",
    "\n",
    "mul_data = []\n",
    "\n",
    "for review in finefood_reduced:\n",
    "        item = review[\"product/productId\"]\n",
    "        user = review[\"review/userId\"]\n",
    "        time = review[\"review/time\"]\n",
    "        if user in Iu and item in Iu[user]:\n",
    "            if [user,item] not in dup_ui_comb:\n",
    "                dup_ui_comb.append([user,item])\n",
    "            continue;\n",
    "        if user in Iu:# and item not in Iu[user]:\n",
    "            Iu[user].append(item)\n",
    "            ui_timestamp[\"user\"+\"item\"] = time;\n",
    "        else:\n",
    "            Iu[user] = [item]\n",
    "            ui_timestamp[\"user\"+\"item\"] = time;\n",
    "        \n",
    "        key = user+'-'+item\n",
    "        userproduct_dict[key]  = review\n",
    "        train_data.append(review)\n",
    "        qualified_review_count+=1"
   ]
  },
  {
   "cell_type": "code",
   "execution_count": 11,
   "metadata": {
    "collapsed": true
   },
   "outputs": [],
   "source": [
    "# Dump all clean and unclean contents to separate files. These files are used for all further processing"
   ]
  },
  {
   "cell_type": "code",
   "execution_count": 39,
   "metadata": {},
   "outputs": [
    {
     "name": "stdout",
     "output_type": "stream",
     "text": [
      "560797\n"
     ]
    }
   ],
   "source": [
    "print(qualified_review_count)"
   ]
  },
  {
   "cell_type": "code",
   "execution_count": 42,
   "metadata": {},
   "outputs": [
    {
     "name": "stdout",
     "output_type": "stream",
     "text": [
      "5859\n"
     ]
    }
   ],
   "source": [
    "print(len(dup_ui_comb))"
   ]
  },
  {
   "cell_type": "code",
   "execution_count": 50,
   "metadata": {},
   "outputs": [],
   "source": [
    "red_data = [] \n",
    "i=0\n",
    "for user,item in dup_ui_comb:\n",
    "    for review in finefood_reduced:\n",
    "        if review[\"review/userId\"] == user and review[\"product/productId\"] == item:\n",
    "            red_data.append(review)\n",
    "    i+=1\n",
    "    if i==50: \n",
    "        break"
   ]
  },
  {
   "cell_type": "code",
   "execution_count": 52,
   "metadata": {},
   "outputs": [],
   "source": [
    "two_data= []\n",
    "for review in finefood_data:\n",
    "    try:\n",
    "        if review[\"review/userId\"] == \"A1CBNUBPZPWH5D\" and review[\"product/productId\"] == \"B0016FY6H6\":\n",
    "            two_data.append(review)\n",
    "    except Exception:\n",
    "        pass"
   ]
  },
  {
   "cell_type": "code",
   "execution_count": 53,
   "metadata": {},
   "outputs": [
    {
     "data": {
      "text/plain": [
       "[{'product/productId': 'B0016FY6H6',\n",
       "  'review/helpfulness': '8/9',\n",
       "  'review/profileName': 'Boston Lesbian \"Happily Married in Massachusetts\"',\n",
       "  'review/score': '5.0',\n",
       "  'review/summary': 'Flavorful and refreshing',\n",
       "  'review/text': \"I ordered this item because it was on sale and because of the health benefits of green tea.  I wasn't certain how good it was going to be but I was pleasantly surprised.  It tastes refreshing and fruity.  The flavor isn't overpowering or fake.  I mix the powder in a sports bottle along with cold water and splenda.  The powder dissolves easily and the drink has a nice green tea and blueberry taste.  I was so impressed that I have signed up for automatic delivery.  It's a great product.\",\n",
       "  'review/time': '1216339200',\n",
       "  'review/userId': 'A1CBNUBPZPWH5D'},\n",
       " {'product/productId': 'B0016FY6H6',\n",
       "  'review/helpfulness': '1/1',\n",
       "  'review/profileName': 'Boston Lesbian \"Happily Married in Massachusetts\"',\n",
       "  'review/score': '5.0',\n",
       "  'review/summary': 'Nice Green Iced Tea Beverage',\n",
       "  'review/text': 'If you like the flavor of green tea and like your beverage iced you will enjoy this beverage.<br /><br />I like the taste of green tea and I also like the health benefits of green tea.  I mix this with ice water and splenda.  It is a refreshing summer beverage.  I like that it dissolves easily and is packaged in small packages.  It is convenient and easy to use.',\n",
       "  'review/time': '1219276800',\n",
       "  'review/userId': 'A1CBNUBPZPWH5D'},\n",
       " {'product/productId': 'B0016FY6H6',\n",
       "  'review/helpfulness': '3/5',\n",
       "  'review/profileName': 'Boston Lesbian \"Happily Married in Massachusetts\"',\n",
       "  'review/score': '4.0',\n",
       "  'review/summary': 'Refreshing summer beverage',\n",
       "  'review/text': \"I purchased this item when it was on sale.  I wasn't certain if I'd like it but I've read so much about the health benefits of green tea I wanted to try it.  This is a nice, pleasant beverage. The flavor isn't too strong.  I add a packet of Splenda to make it a bit sweeter.  The powder dissolves easily in cold water.  The flavor is natural not fake.  I was impressed enough with it that I have signed up for auto-delivery.\",\n",
       "  'review/time': '1216339200',\n",
       "  'review/userId': 'A1CBNUBPZPWH5D'}]"
      ]
     },
     "execution_count": 53,
     "metadata": {},
     "output_type": "execute_result"
    }
   ],
   "source": [
    "two_data"
   ]
  },
  {
   "cell_type": "code",
   "execution_count": 12,
   "metadata": {},
   "outputs": [
    {
     "name": "stdout",
     "output_type": "stream",
     "text": [
      "File finefood_incompletedata.json written\n"
     ]
    }
   ],
   "source": [
    "with open(\"finefood_incompletedata.json\",'w') as outfile:\n",
    "    for line in finefood_missingproperties:\n",
    "        json.dump(line,outfile)\n",
    "        outfile.write(\"\\n\")\n",
    "print(\"File {} written\".format(\"finefood_incompletedata.json\"))\n",
    "outfile.close()"
   ]
  },
  {
   "cell_type": "code",
   "execution_count": 12,
   "metadata": {},
   "outputs": [
    {
     "name": "stdout",
     "output_type": "stream",
     "text": [
      "File finefood_reduced_time_data.json written\n"
     ]
    }
   ],
   "source": [
    "with open(\"finefood_reduced_time_data.json\",'w') as outfile:\n",
    "    json.dump(finefood_reduced,outfile)\n",
    "print(\"File {} written\".format(\"finefood_reduced_time_data.json\"))\n",
    "outfile.close()"
   ]
  },
  {
   "cell_type": "markdown",
   "metadata": {},
   "source": [
    "## Exploratory analysis"
   ]
  },
  {
   "cell_type": "code",
   "execution_count": 103,
   "metadata": {
    "collapsed": true
   },
   "outputs": [],
   "source": [
    "user_set = set()\n",
    "product_set = set()"
   ]
  },
  {
   "cell_type": "code",
   "execution_count": 105,
   "metadata": {
    "collapsed": true
   },
   "outputs": [],
   "source": [
    "scores =[]"
   ]
  },
  {
   "cell_type": "code",
   "execution_count": 108,
   "metadata": {},
   "outputs": [],
   "source": [
    "for review in finefood_reduced:\n",
    "    if review[\"product/productId\"] not in product_set:\n",
    "        product_set.add(review[\"product/productId\"])\n",
    "    if review[\"review/userId\"] not in user_set:\n",
    "        user_set.add(review[\"review/userId\"])\n",
    "    scores.append(review[\"review/score\"])"
   ]
  },
  {
   "cell_type": "code",
   "execution_count": 109,
   "metadata": {},
   "outputs": [
    {
     "name": "stdout",
     "output_type": "stream",
     "text": [
      "Number of products: 74257\n",
      "Number of users: 256055\n"
     ]
    }
   ],
   "source": [
    "print(\"Number of products: {}\".format(len(product_set)))\n",
    "print(\"Number of users: {}\".format(len(user_set)))"
   ]
  },
  {
   "cell_type": "code",
   "execution_count": 116,
   "metadata": {},
   "outputs": [],
   "source": [
    "distinct_scores = dict()\n",
    "for score in scores:\n",
    "    if score not in distinct_scores:\n",
    "        distinct_scores[score]=1\n",
    "    else:\n",
    "        distinct_scores[score]+=1"
   ]
  },
  {
   "cell_type": "code",
   "execution_count": 133,
   "metadata": {},
   "outputs": [
    {
     "data": {
      "image/png": "[encoded data removed]",
      "text/plain": [
       "<matplotlib.figure.Figure at 0x180eac828>"
      ]
     },
     "metadata": {},
     "output_type": "display_data"
    }
   ],
   "source": [
    "plt.scatter(list(distinct_scores.keys()),list(distinct_scores.values()))\n",
    "plt.xlabel(\"Rating values\")\n",
    "plt.ylabel(\"Number of reviews\")\n",
    "plt.title(\" Number of reviews per rating\")\n",
    "plt.show()"
   ]
  },
  {
   "cell_type": "code",
   "execution_count": 243,
   "metadata": {
    "collapsed": true
   },
   "outputs": [],
   "source": [
    "#figure out distribution of average rating of products / or ratings given by users\n",
    "Iu = dict()\n",
    "Ui = dict()"
   ]
  },
  {
   "cell_type": "code",
   "execution_count": 244,
   "metadata": {},
   "outputs": [],
   "source": [
    "for review in finefood_reduced:\n",
    "    if review[\"product/productId\"] in Ui:\n",
    "        Ui[review[\"product/productId\"]].append(float(review[\"review/score\"]))\n",
    "    else:\n",
    "        Ui[review[\"product/productId\"]] = [float(review[\"review/score\"])]\n",
    "    if review[\"review/userId\"] in Iu:\n",
    "        Iu[review[\"review/userId\"]].append(float(review[\"review/score\"]))\n",
    "    else:\n",
    "        Iu[review[\"review/userId\"]] = [float(review[\"review/score\"])]"
   ]
  },
  {
   "cell_type": "code",
   "execution_count": 245,
   "metadata": {},
   "outputs": [],
   "source": [
    "Iu_len = dict()\n",
    "len_user = []\n",
    "for key in Iu:\n",
    "    if len(Iu[key]) not in Iu_len:\n",
    "        Iu_len[len(Iu[key])]=1\n",
    "    else:\n",
    "        Iu_len[len(Iu[key])]+=1\n",
    "    len_user.append(len(Iu[key]))"
   ]
  },
  {
   "cell_type": "code",
   "execution_count": 246,
   "metadata": {
    "collapsed": true
   },
   "outputs": [],
   "source": [
    "len_user.sort()"
   ]
  },
  {
   "cell_type": "code",
   "execution_count": 247,
   "metadata": {},
   "outputs": [
    {
     "data": {
      "image/png": "[encoded data removed]",
      "text/plain": [
       "<matplotlib.figure.Figure at 0x17153d390>"
      ]
     },
     "metadata": {},
     "output_type": "display_data"
    }
   ],
   "source": [
    "plt.plot(len_user)\n",
    "plt.xlabel(\"#users\")\n",
    "plt.ylabel(\"#reviews\")\n",
    "plt.show()"
   ]
  },
  {
   "cell_type": "code",
   "execution_count": 248,
   "metadata": {},
   "outputs": [
    {
     "data": {
      "image/png": "[encoded data removed]",
      "text/plain": [
       "<matplotlib.figure.Figure at 0x171524a90>"
      ]
     },
     "metadata": {},
     "output_type": "display_data"
    }
   ],
   "source": [
    "plt.scatter(list(Iu_len.keys()),list(Iu_len.values()))\n",
    "plt.ylabel(\"#users\")\n",
    "plt.xlabel(\"#reviews\")\n",
    "plt.show()"
   ]
  },
  {
   "cell_type": "code",
   "execution_count": 249,
   "metadata": {},
   "outputs": [],
   "source": [
    "review_cutoff = 10"
   ]
  },
  {
   "cell_type": "code",
   "execution_count": 250,
   "metadata": {},
   "outputs": [],
   "source": [
    "count = 0\n",
    "for key in Iu_len:\n",
    "    if key>review_cutoff:\n",
    "        count+= Iu_len[key]\n",
    "        "
   ]
  },
  {
   "cell_type": "code",
   "execution_count": 251,
   "metadata": {},
   "outputs": [
    {
     "name": "stdout",
     "output_type": "stream",
     "text": [
      "Number of users who have written more than 10 reviews is 6359\n"
     ]
    }
   ],
   "source": [
    "print(\"Number of users who have written more than {} reviews is {}\".format(review_cutoff,count))"
   ]
  },
  {
   "cell_type": "code",
   "execution_count": 274,
   "metadata": {},
   "outputs": [],
   "source": [
    "avg_user_rating = dict()\n",
    "for key in Iu:\n",
    "    if np.mean(Iu[key]) not in avg_user_rating:\n",
    "        avg_user_rating[np.mean(Iu[key])]=1\n",
    "    else:\n",
    "        avg_user_rating[np.mean(Iu[key])]+=1"
   ]
  },
  {
   "cell_type": "code",
   "execution_count": 285,
   "metadata": {},
   "outputs": [],
   "source": [
    "x = sorted(list(avg_user_rating.keys()),reverse=True)"
   ]
  },
  {
   "cell_type": "code",
   "execution_count": 289,
   "metadata": {},
   "outputs": [
    {
     "data": {
      "image/png": "[encoded data removed]",
      "text/plain": [
       "<matplotlib.figure.Figure at 0x173bff438>"
      ]
     },
     "metadata": {},
     "output_type": "display_data"
    }
   ],
   "source": [
    "plt.scatter(list(avg_user_rating.keys()), list(avg_user_rating.values()))\n",
    "plt.show()"
   ]
  },
  {
   "cell_type": "code",
   "execution_count": null,
   "metadata": {
    "collapsed": true
   },
   "outputs": [],
   "source": []
  }
 ],
 "metadata": {
  "anaconda-cloud": {},
  "kernelspec": {
   "display_name": "Python 3",
   "language": "python",
   "name": "python3"
  },
  "language_info": {
   "codemirror_mode": {
    "name": "ipython",
    "version": 3
   },
   "file_extension": ".py",
   "mimetype": "text/x-python",
   "name": "python",
   "nbconvert_exporter": "python",
   "pygments_lexer": "ipython3",
   "version": "3.6.0"
  }
 },
 "nbformat": 4,
 "nbformat_minor": 1
}
