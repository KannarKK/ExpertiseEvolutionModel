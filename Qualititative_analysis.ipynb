{
 "cells": [
  {
   "cell_type": "code",
   "execution_count": 267,
   "metadata": {
    "collapsed": true
   },
   "outputs": [],
   "source": [
    "try: import simplejson as json\n",
    "except ImportError: import json\n",
    "\n",
    "import gzip,codecs,numpy as np,random,copy\n",
    "import scipy.optimize as opt\n",
    "import matplotlib.pyplot as plt"
   ]
  },
  {
   "cell_type": "code",
   "execution_count": 268,
   "metadata": {},
   "outputs": [
    {
     "name": "stdout",
     "output_type": "stream",
     "text": [
      "2704815 4760 2709575\n"
     ]
    }
   ],
   "source": [
    "#with open(\"finefood_train_random.json\",\"r\") as infile:\n",
    "#with open(\"beeradvocate_train_random.json\",\"r\") as infile:\n",
    "#with open(\"beeradvocate_train_lastrating.json\",\"r\") as infile:\n",
    "#with open(\"ratebeer_train_lastrating.json\",\"r\") as infile:\n",
    "with open(\"ratebeer_train_random.json\",\"r\") as infile:\n",
    "    train = json.load(infile)\n",
    "infile.close()\n",
    "#with open(\"finefood_test_random.json\",\"r\") as infile:\n",
    "#with open(\"beeradvocate_test_random.json\",\"r\") as infile:\n",
    "#with open(\"beeradvocate_test_lastrating.json\",\"r\") as infile:\n",
    "#with open(\"ratebeer_test_lastrating.json\",\"r\") as infile:\n",
    "with open(\"ratebeer_test_random.json\",\"r\") as infile:\n",
    "    test = json.load(infile)\n",
    "infile.close()\n",
    "#with open(\"finefood_quickmap_random.json\",\"r\") as infile:\n",
    "#with open(\"beeradvocate_quickmap_random.json\",\"r\") as infile:\n",
    "#with open(\"beeradvocate_quickmap_lastrating.json\",\"r\") as infile:\n",
    "#with open(\"ratebeer_quickmap_lastrating.json\",\"r\") as infile:\n",
    "with open(\"ratebeer_quickmap_random.json\",\"r\") as infile:\n",
    "    quickmap = json.load(infile)\n",
    "infile.close()\n",
    "\n",
    "print(len(train),len(test),len(quickmap))\n",
    "train = sorted(train, key = lambda k : int(k[\"review/time\"]))"
   ]
  },
  {
   "cell_type": "code",
   "execution_count": 269,
   "metadata": {
    "collapsed": true
   },
   "outputs": [],
   "source": [
    "Iu = dict() #set of products reviewed by users\n",
    "Ui = dict() #set of users who reviewed the product"
   ]
  },
  {
   "cell_type": "code",
   "execution_count": 270,
   "metadata": {
    "collapsed": true
   },
   "outputs": [],
   "source": [
    "for review in train:\n",
    "        item = review[\"product/productId\"]\n",
    "        user = review[\"review/userId\"]\n",
    "        if item in Ui:\n",
    "            Ui[item].append(user)\n",
    "        else:\n",
    "            Ui[item] = [user]\n",
    "        if user in Iu:\n",
    "            Iu[user].append(item)\n",
    "        else:\n",
    "            Iu[user] = [item]"
   ]
  },
  {
   "cell_type": "code",
   "execution_count": 271,
   "metadata": {
    "collapsed": true
   },
   "outputs": [],
   "source": [
    "#with open(\"finefood_user_map_random.json\",'r') as infile:\n",
    "#with open(\"beeradvocate_user_map_lastrating.json\",'r') as infile:\n",
    "#with open(\"ratebeer_user_map_lastrating.json\",'r') as infile:\n",
    "with open(\"ratebeer_user_map_random.json\",'r') as infile:\n",
    "        user_map = json.load(infile)\n",
    "infile.close()\n",
    "#with open(\"finefood_item_map_random.json\",'r') as infile:\n",
    "#with open(\"beeradvocate_item_map_lastrating.json\",'r') as infile:\n",
    "#with open(\"ratebeer_item_map_lastrating.json\",'r') as infile:\n",
    "with open(\"ratebeer_item_map_random.json\",'r') as infile:\n",
    "        item_map = json.load(infile)\n",
    "infile.close()\n",
    "\n",
    "user_map_int = {}\n",
    "for key in user_map:\n",
    "    user_map_int[int(key)] = user_map[key]\n",
    "item_map_int = {}\n",
    "for key in item_map:\n",
    "    item_map_int[int(key)] = item_map[key]"
   ]
  },
  {
   "cell_type": "code",
   "execution_count": 272,
   "metadata": {
    "collapsed": true
   },
   "outputs": [],
   "source": [
    "#with open(\"beeradvocate_lastrating_eui.json\",'r') as infile:\n",
    "with open(\"ratebeer_random_eui.json\",'r') as infile:\n",
    "#with open(\"finefood_random_eui.json\",'r') as infile:\n",
    "    eui_dict = json.load(infile)"
   ]
  },
  {
   "cell_type": "code",
   "execution_count": 273,
   "metadata": {
    "collapsed": true
   },
   "outputs": [],
   "source": [
    "eui = {}\n",
    "for key in eui_dict:\n",
    "    try:\n",
    "        user,item = key.split('<?>')\n",
    "        #user,item = key.split('-')\n",
    "\n",
    "        if user not in eui:\n",
    "            eui[user]= {}\n",
    "        eui[user][item] = eui_dict[key]\n",
    "    except Exception as f:\n",
    "        print(key, f)"
   ]
  },
  {
   "cell_type": "code",
   "execution_count": 274,
   "metadata": {
    "collapsed": true
   },
   "outputs": [],
   "source": [
    "#with open(\"beeradvocate_user_expertise_lfm_results_lastrating\",'r') as infile:\n",
    "with open(\"ratebeer_user_expertise_lfm_results_random\",'r') as infile:\n",
    "    flat_theta = infile.read().split()"
   ]
  },
  {
   "cell_type": "code",
   "execution_count": 275,
   "metadata": {
    "collapsed": true
   },
   "outputs": [],
   "source": [
    "flat_theta = np.array(flat_theta, np.float64)"
   ]
  },
  {
   "cell_type": "code",
   "execution_count": 276,
   "metadata": {
    "collapsed": true
   },
   "outputs": [],
   "source": [
    "E=5\n",
    "k=5"
   ]
  },
  {
   "cell_type": "code",
   "execution_count": 277,
   "metadata": {
    "collapsed": true
   },
   "outputs": [],
   "source": [
    "alpha_G = 0                                #global offset\n",
    "Bu_G = dict()                                        #user bias (global)\n",
    "Bi_G = dict()                                        #item bias (global)\n",
    "alpha = np.random.rand(E)                     #individual offset parameters per exp\n",
    "Bu = [dict() for i in range(E)]               #user bias per exp\n",
    "Bi = [dict() for i in range(E)]               #item bias per exp\n",
    "Gu = [dict() for i in range(E)]               #user latent factor vector repr per exp\n",
    "Gi = [dict() for i in range(E)] "
   ]
  },
  {
   "cell_type": "code",
   "execution_count": 278,
   "metadata": {
    "collapsed": true
   },
   "outputs": [],
   "source": [
    "def retrieve_theta_components(theta,user_map, item_map):\n",
    "        ''' Sets all parameters from the long theta vector obtained after update rule'''\n",
    "        global alpha_G, Bu_G, Bi_G, alpha, Bu, Bi, Gu, Gi\n",
    "        j = 0\n",
    "        umap_len = len(user_map)\n",
    "        imap_len = len(item_map)\n",
    "        alpha_G = theta[j]\n",
    "        j+=1\n",
    "        for i in range(umap_len):\n",
    "            Bu_G[user_map[i]] = theta[j]\n",
    "            j+=1\n",
    "        for i in range(imap_len):\n",
    "            Bi_G[item_map[i]] = theta[j]\n",
    "            j+=1 \n",
    "        for e in range(E):\n",
    "            alpha[e] = theta[j]\n",
    "            j+=1   \n",
    "        for e in range(E):\n",
    "            for i in range(umap_len):\n",
    "                Bu[e][user_map[i]] = theta[j]\n",
    "                j+=1\n",
    "        for e in range(E):\n",
    "            for i in range(imap_len):\n",
    "                Bi[e][item_map[i]] = theta[j]\n",
    "                j+=1 \n",
    "        for e in range(E):\n",
    "            for i in range(umap_len):\n",
    "                Gu[e][user_map[i]] = np.array(theta[j:j+k])\n",
    "                j+=k  \n",
    "        for e in range(E):\n",
    "            for i in range(imap_len):\n",
    "                Gi[e][item_map[i]] = np.array(theta[j:j+k])\n",
    "                j+=k   \n",
    "        if j!= len(theta):\n",
    "            print(\"Something went wrong. Not all theta values were used\")\n",
    "        print(j)\n",
    "            \n",
    "    "
   ]
  },
  {
   "cell_type": "code",
   "execution_count": 279,
   "metadata": {},
   "outputs": [
    {
     "name": "stdout",
     "output_type": "stream",
     "text": [
      "3558558\n"
     ]
    }
   ],
   "source": [
    "retrieve_theta_components(flat_theta,user_map_int, item_map_int)"
   ]
  },
  {
   "cell_type": "code",
   "execution_count": 280,
   "metadata": {
    "collapsed": true
   },
   "outputs": [],
   "source": [
    "def pred_e(user,item,e):\n",
    "    global alpha_G, Bu_G, Bi_G, alpha, Bu, Bi, Gu, Gi\n",
    "    return alpha_G + Bu_G[user] + Bi_G[item] + alpha[e] + Bu[e][user] + Bi[e][item] +\\\n",
    "                      np.asscalar(np.dot(Gu[e][user], Gi[e][item].T))\n",
    "            \n",
    "def mse_test(test_data):\n",
    "        ''' Uses Mean Squared Error as evaluation metric on test data provided by user'''\n",
    "        global alpha_G, Bu_G, Bi_G, alpha, Bu, Bi, Gu, Gi,eui\n",
    "        #retrieve_theta_components(final_param)\n",
    "        mse = np.zeros(E)\n",
    "        count = np.zeros(E)\n",
    "        error = 0\n",
    "        unknown_data_count =0;\n",
    "        for review in test_data:\n",
    "            user = review[\"review/userId\"]\n",
    "            item = review[\"product/productId\"]\n",
    "            #assign nearest experience to user-item combo\n",
    "            rtime = int(review[\"review/time\"])\n",
    "            time_arr = []\n",
    "            for i in range(len(Iu[user])):\n",
    "                it = Iu[user][i]\n",
    "                time_arr.append(int(quickmap[user+\"-\"+it][\"review/time\"]))\n",
    "            for i in range(len(time_arr)-1):\n",
    "                if time_arr[i] > time_arr[i+1]:\n",
    "                    print(\"aksks\")\n",
    "                    break\n",
    "            #if all(time_arr[i] <= time_arr[i+1] for i in range(len(time_arr)-1))==False:\n",
    "            #    print(\"raising error. Something went wrong. List should be sorted by default\")\n",
    "            index = np.searchsorted(time_arr,rtime)\n",
    "            if index == len(Iu[user]):\n",
    "                closest_it = Iu[user][index-1]\n",
    "            else:\n",
    "                closest_it = Iu[user][index]\n",
    "            \n",
    "                e = eui[user][closest_it]\n",
    "            try:\n",
    "                error += (pred_e(user,item,e) - review[\"review/score\"])**2\n",
    "                mse[e] += (pred_e(user,item,e) - review[\"review/score\"])**2\n",
    "                count[e] +=1\n",
    "            \n",
    "            except Exception as f:\n",
    "                #print(f,user,closest_it)\n",
    "                unknown_data_count+=1\n",
    "        \n",
    "        if unknown_data_count>0:\n",
    "            print(\"Warning! Unknown {} new data rows; Incorporating this into MSE\".format(unknown_data_count))\n",
    "        return (error / (len(test_data) - unknown_data_count), mse,count)"
   ]
  },
  {
   "cell_type": "code",
   "execution_count": 281,
   "metadata": {},
   "outputs": [
    {
     "name": "stdout",
     "output_type": "stream",
     "text": [
      "Warning! Unknown 13 new data rows; Incorporating this into MSE\n"
     ]
    }
   ],
   "source": [
    "error, mse, count = mse_test(test)"
   ]
  },
  {
   "cell_type": "code",
   "execution_count": 282,
   "metadata": {},
   "outputs": [
    {
     "data": {
      "text/plain": [
       "array([ 0.8797069 ,  0.57999745,  0.54646935,  0.40682949,  0.39121456])"
      ]
     },
     "execution_count": 282,
     "metadata": {},
     "output_type": "execute_result"
    }
   ],
   "source": [
    "mse/count"
   ]
  },
  {
   "cell_type": "markdown",
   "metadata": {},
   "source": [
    "### Experience progression"
   ]
  },
  {
   "cell_type": "code",
   "execution_count": 283,
   "metadata": {
    "collapsed": true
   },
   "outputs": [],
   "source": [
    "merged = train #+ test"
   ]
  },
  {
   "cell_type": "code",
   "execution_count": 284,
   "metadata": {
    "collapsed": true
   },
   "outputs": [],
   "source": [
    "merged = sorted(merged, key = lambda k : int(k[\"review/time\"]))\n",
    "Iu = dict()\n",
    "Ui = dict()\n",
    "for review in merged:\n",
    "        item = review[\"product/productId\"]\n",
    "        user = review[\"review/userId\"]\n",
    "        if item in Ui:\n",
    "            Ui[item].append(user)\n",
    "        else:\n",
    "            Ui[item] = [user]\n",
    "        if user in Iu:\n",
    "            Iu[user].append(item)\n",
    "        else:\n",
    "            Iu[user] = [item]"
   ]
  },
  {
   "cell_type": "code",
   "execution_count": 285,
   "metadata": {},
   "outputs": [
    {
     "data": {
      "text/plain": [
       "110032"
      ]
     },
     "execution_count": 285,
     "metadata": {},
     "output_type": "execute_result"
    }
   ],
   "source": [
    "len(Ui)"
   ]
  },
  {
   "cell_type": "code",
   "execution_count": 286,
   "metadata": {
    "collapsed": true
   },
   "outputs": [],
   "source": [
    "users1 = []\n",
    "for user in Iu:\n",
    "    item1 = Iu[user][0]\n",
    "    item2 = Iu[user][-1]\n",
    "    if eui[user][item1]==0 and eui[user][item2]==4:\n",
    "        users1.append(user)"
   ]
  },
  {
   "cell_type": "code",
   "execution_count": 287,
   "metadata": {
    "collapsed": true
   },
   "outputs": [],
   "source": [
    "users2 = []\n",
    "for user in Iu:\n",
    "    item1 = Iu[user][0]\n",
    "    item2 = Iu[user][-1]\n",
    "    if eui[user][item1]==0 and eui[user][item2]==3:\n",
    "        users2.append(user)"
   ]
  },
  {
   "cell_type": "code",
   "execution_count": 288,
   "metadata": {
    "collapsed": true
   },
   "outputs": [],
   "source": [
    "n_e = np.zeros(E)  #number of ratings per level\n",
    "time_e = np.zeros(E)\n",
    "n_u  = np.zeros(E) #number of users per level\n",
    "for user in users1:\n",
    "    item = Iu[user][0]\n",
    "    start_time = float(quickmap[user+'-'+item]['review/time'])\n",
    "    cur_level= eui[user][item]\n",
    "    temp_e = np.zeros(E)\n",
    "    n_u[cur_level] +=1\n",
    "    for i in range(len(Iu[user])):\n",
    "        item = Iu[user][i]\n",
    "        if eui[user][item]== cur_level:\n",
    "            continue\n",
    "        else:\n",
    "            end_time = int(quickmap[user+'-'+item]['review/time'])            \n",
    "            temp_e[cur_level] += end_time - start_time\n",
    "            #start_time = end_time\n",
    "            n_e[cur_level]+=i\n",
    "            if cur_level==E-1:\n",
    "                break\n",
    "            else:\n",
    "                cur_level+=1\n",
    "                n_u[cur_level]+=1\n",
    "    item = Iu[user][-1]\n",
    "    end_time = float(quickmap[user+'-'+item]['review/time'])\n",
    "    temp_e[cur_level] += end_time - start_time\n",
    "    n_e[cur_level]=len(Iu[user])\n",
    "    time_e += temp_e\n"
   ]
  },
  {
   "cell_type": "code",
   "execution_count": 289,
   "metadata": {
    "collapsed": true
   },
   "outputs": [],
   "source": [
    "n_e2 = np.zeros(E)  #number of ratings per level\n",
    "time_e2 = np.zeros(E)\n",
    "n_u2  = np.zeros(E) #number of users per level\n",
    "for user in users2:\n",
    "    item = Iu[user][0]\n",
    "    start_time = float(quickmap[user+'-'+item]['review/time'])\n",
    "    cur_level= eui[user][item]\n",
    "    temp_e = np.zeros(E)\n",
    "    n_u2[cur_level] +=1\n",
    "    for i in range(len(Iu[user])):\n",
    "        item = Iu[user][i]\n",
    "        if eui[user][item]== cur_level:\n",
    "            continue\n",
    "        else:\n",
    "            end_time = int(quickmap[user+'-'+item]['review/time'])            \n",
    "            temp_e[cur_level] += end_time - start_time\n",
    "            #start_time = end_time\n",
    "            n_e2[cur_level]+=i\n",
    "            if cur_level==E-2:\n",
    "                break\n",
    "            else:\n",
    "                cur_level+=1\n",
    "                n_u2[cur_level]+=1\n",
    "    item = Iu[user][-1]\n",
    "    end_time = float(quickmap[user+'-'+item]['review/time'])\n",
    "    temp_e[cur_level] += end_time - start_time\n",
    "    n_e2[cur_level]=len(Iu[user])\n",
    "    time_e2 += temp_e\n"
   ]
  },
  {
   "cell_type": "code",
   "execution_count": 290,
   "metadata": {},
   "outputs": [
    {
     "data": {
      "text/plain": [
       "array([  44.62474316,   81.74532281,  122.78263221,  166.74164594,\n",
       "        217.64896723])"
      ]
     },
     "execution_count": 290,
     "metadata": {},
     "output_type": "execute_result"
    }
   ],
   "source": [
    "time_e/(7*24*60*60)/n_u"
   ]
  },
  {
   "cell_type": "code",
   "execution_count": 291,
   "metadata": {},
   "outputs": [
    {
     "name": "stderr",
     "output_type": "stream",
     "text": [
      "/Users/kirankannar/tensorflow/lib/python3.6/site-packages/ipykernel_launcher.py:1: RuntimeWarning: invalid value encountered in true_divide\n",
      "  \"\"\"Entry point for launching an IPython kernel.\n"
     ]
    },
    {
     "data": {
      "text/plain": [
       "array([  63.49769585,  104.36449418,  140.92560895,  202.14483213,\n",
       "                 nan])"
      ]
     },
     "execution_count": 291,
     "metadata": {},
     "output_type": "execute_result"
    }
   ],
   "source": [
    "time_e2/(7*24*60*60)/n_u2"
   ]
  },
  {
   "cell_type": "markdown",
   "metadata": {},
   "source": [
    "### Ratebeer"
   ]
  },
  {
   "cell_type": "code",
   "execution_count": 299,
   "metadata": {},
   "outputs": [
    {
     "name": "stderr",
     "output_type": "stream",
     "text": [
      "/Users/kirankannar/tensorflow/lib/python3.6/site-packages/ipykernel_launcher.py:3: RuntimeWarning: invalid value encountered in true_divide\n",
      "  This is separate from the ipykernel package so we can avoid doing imports until\n"
     ]
    },
    {
     "data": {
      "image/png": "[encoded data removed]",
      "text/plain": [
       "<matplotlib.figure.Figure at 0x1792fc278>"
      ]
     },
     "metadata": {},
     "output_type": "display_data"
    }
   ],
   "source": [
    "x = np.arange(1,6) \n",
    "ax = plt.subplot(111)\n",
    "plt.bar(x-0.2,time_e2/(7*24*60*60)/n_u2,width=0.2)\n",
    "plt.bar(x,time_e/(7*24*60*60)/n_u,width=0.2)\n",
    "plt.ylabel(\"Time to progress\")\n",
    "plt.xlabel(\"Experience level\")\n",
    "plt.show()"
   ]
  },
  {
   "cell_type": "markdown",
   "metadata": {},
   "source": [
    "###  BeerAdvocate"
   ]
  },
  {
   "cell_type": "code",
   "execution_count": 237,
   "metadata": {},
   "outputs": [
    {
     "name": "stderr",
     "output_type": "stream",
     "text": [
      "/Users/kirankannar/tensorflow/lib/python3.6/site-packages/ipykernel_launcher.py:3: RuntimeWarning: invalid value encountered in true_divide\n",
      "  This is separate from the ipykernel package so we can avoid doing imports until\n"
     ]
    },
    {
     "data": {
      "image/png": "[encoded data removed]",
      "text/plain": [
       "<matplotlib.figure.Figure at 0x10a5bed30>"
      ]
     },
     "metadata": {},
     "output_type": "display_data"
    }
   ],
   "source": [
    "x = np.arange(1,6) \n",
    "ax = plt.subplot(111)\n",
    "plt.bar(x-0.2,time_e2/(7*24*60*60)/n_u2,width=0.2)\n",
    "plt.bar(x,time_e/(7*24*60*60)/n_u,width=0.2)\n",
    "plt.ylabel(\"Time to progress\")\n",
    "plt.xlabel(\"Experience level\")\n",
    "plt.show()"
   ]
  },
  {
   "cell_type": "code",
   "execution_count": 296,
   "metadata": {
    "collapsed": true
   },
   "outputs": [],
   "source": [
    "delta = np.zeros(len(item_map_int))\n",
    "\n",
    "for i in range(len(item_map_int)):\n",
    "    item = item_map_int[i]\n",
    "    delta[i] = -(Bi[E-1][item] - Bi[0][item])\n"
   ]
  },
  {
   "cell_type": "code",
   "execution_count": 294,
   "metadata": {
    "collapsed": true
   },
   "outputs": [],
   "source": [
    "avg_p = np.zeros(len(item_map_int))\n",
    "for i in range(len(item_map_int)):\n",
    "    item = item_map_int[i]\n",
    "    tot = 0\n",
    "    for user in Ui[item]:\n",
    "        tot += quickmap[user+'-'+item][\"review/score\"]\n",
    "    tot/=len(Ui[item])\n",
    "    avg_p[i] = tot\n",
    "                      "
   ]
  },
  {
   "cell_type": "code",
   "execution_count": 298,
   "metadata": {
    "collapsed": true
   },
   "outputs": [],
   "source": [
    "plt.scatter(avg_p, delta)\n",
    "#plt.ylim(-0.009, 0.009)\n",
    "plt.show()"
   ]
  },
  {
   "cell_type": "code",
   "execution_count": 300,
   "metadata": {
    "collapsed": true
   },
   "outputs": [],
   "source": [
    "def parse(filename):\n",
    "  #f = gzip.open(filename, 'r')\n",
    "  f = codecs.open(filename,encoding='latin-1')\n",
    "  entry = {}\n",
    "  for l in f:\n",
    "    l = l.strip()\n",
    "    colonPos = l.find(':')\n",
    "    if colonPos == -1:\n",
    "      yield entry\n",
    "      entry = {}\n",
    "      continue\n",
    "    eName = l[:colonPos]\n",
    "    rest = l[colonPos+2:]\n",
    "    entry[eName] = rest\n",
    "  yield entry"
   ]
  },
  {
   "cell_type": "code",
   "execution_count": 301,
   "metadata": {
    "collapsed": true
   },
   "outputs": [],
   "source": [
    "ratebeer_data = []\n",
    "for e in parse(\"ratebeer.txt\"):\n",
    "    ratebeer_data.append(e)"
   ]
  },
  {
   "cell_type": "code",
   "execution_count": 302,
   "metadata": {},
   "outputs": [
    {
     "name": "stdout",
     "output_type": "stream",
     "text": [
      "Number of Ratebeer beer reviews: 2924164\n"
     ]
    }
   ],
   "source": [
    "print(\"Number of Ratebeer beer reviews: {}\".format(len(ratebeer_data)))"
   ]
  },
  {
   "cell_type": "code",
   "execution_count": 304,
   "metadata": {},
   "outputs": [],
   "source": [
    "beer_namedict= {}\n",
    "for review in ratebeer_data:\n",
    "    if 'beer/beerId' in review and 'beer/name' in review:\n",
    "        beerid = review['beer/beerId']\n",
    "        beername = review['beer/name']\n",
    "        beer_namedict[beerid] = beername"
   ]
  },
  {
   "cell_type": "code",
   "execution_count": 305,
   "metadata": {
    "collapsed": true
   },
   "outputs": [],
   "source": [
    "beginner_bias = {}\n",
    "expert_bias = {}\n",
    "\n",
    "for i in range(len(item_map_int)):\n",
    "    item = item_map_int[i]\n",
    "    beginner_bias[item] = Bi_G[item]+ Bi[0][item]\n",
    "    expert_bias[item] = Bi_G[item]+ Bi[E-1][item]"
   ]
  }
 ],
 "metadata": {
  "kernelspec": {
   "display_name": "Python 3",
   "language": "python",
   "name": "python3"
  },
  "language_info": {
   "codemirror_mode": {
    "name": "ipython",
    "version": 3
   },
   "file_extension": ".py",
   "mimetype": "text/x-python",
   "name": "python",
   "nbconvert_exporter": "python",
   "pygments_lexer": "ipython3",
   "version": "3.6.0"
  }
 },
 "nbformat": 4,
 "nbformat_minor": 2
}
